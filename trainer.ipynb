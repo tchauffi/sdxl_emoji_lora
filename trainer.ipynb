{
 "cells": [
  {
   "cell_type": "markdown",
   "metadata": {},
   "source": [
    "# Emoji Lora trainer \n",
    "\n",
    "Main objectif : \n",
    "- Train a LoRA model for SDXL for emoji\n",
    "- Push LoRA to Hugging face\n",
    "\n",
    "You can use this notebook on colab using : \n",
    "\n",
    "[![Open In Colab](https://colab.research.google.com/assets/colab-badge.svg)](https://colab.research.google.com/github/tchauffi/sdxl_emoji_lora/blob/first_version/trainer.ipynb)\n"
   ]
  },
  {
   "cell_type": "code",
   "execution_count": 4,
   "metadata": {},
   "outputs": [
    {
     "name": "stdout",
     "output_type": "stream",
     "text": [
      "Cloning into 'diffusers'...\n",
      "remote: Enumerating objects: 49935, done.\u001b[K\n",
      "remote: Counting objects: 100% (34/34), done.\u001b[K\n",
      "remote: Compressing objects: 100% (17/17), done.\u001b[K\n",
      "remote: Total 49935 (delta 16), reused 26 (delta 12), pack-reused 49901\u001b[K\n",
      "Receiving objects: 100% (49935/49935), 35.67 MiB | 1.20 MiB/s, done.\n",
      "Resolving deltas: 100% (35264/35264), done.\n"
     ]
    }
   ],
   "source": [
    "!git clone https://github.com/huggingface/diffusers"
   ]
  },
  {
   "cell_type": "markdown",
   "metadata": {},
   "source": [
    "## Install all requirements "
   ]
  },
  {
   "cell_type": "code",
   "execution_count": 5,
   "metadata": {},
   "outputs": [
    {
     "name": "stdout",
     "output_type": "stream",
     "text": [
      "/Users/thibautchauffier/Projets GIT/sdxl_emoji_lora/diffusers\n",
      "Processing /Users/thibautchauffier/Projets GIT/sdxl_emoji_lora/diffusers\n",
      "  Installing build dependencies ... \u001b[?25ldone\n",
      "\u001b[?25h  Getting requirements to build wheel ... \u001b[?25ldone\n",
      "\u001b[?25h  Preparing metadata (pyproject.toml) ... \u001b[?25ldone\n",
      "\u001b[?25hRequirement already satisfied: importlib-metadata in /Users/thibautchauffier/opt/miniconda3/envs/emoji_lora_env/lib/python3.10/site-packages (from diffusers==0.26.0.dev0) (7.0.1)\n",
      "Requirement already satisfied: filelock in /Users/thibautchauffier/opt/miniconda3/envs/emoji_lora_env/lib/python3.10/site-packages (from diffusers==0.26.0.dev0) (3.13.1)\n",
      "Requirement already satisfied: huggingface-hub>=0.20.2 in /Users/thibautchauffier/opt/miniconda3/envs/emoji_lora_env/lib/python3.10/site-packages (from diffusers==0.26.0.dev0) (0.20.2)\n",
      "Requirement already satisfied: numpy in /Users/thibautchauffier/opt/miniconda3/envs/emoji_lora_env/lib/python3.10/site-packages (from diffusers==0.26.0.dev0) (1.26.3)\n",
      "Requirement already satisfied: regex!=2019.12.17 in /Users/thibautchauffier/opt/miniconda3/envs/emoji_lora_env/lib/python3.10/site-packages (from diffusers==0.26.0.dev0) (2023.12.25)\n",
      "Requirement already satisfied: requests in /Users/thibautchauffier/opt/miniconda3/envs/emoji_lora_env/lib/python3.10/site-packages (from diffusers==0.26.0.dev0) (2.31.0)\n",
      "Requirement already satisfied: safetensors>=0.3.1 in /Users/thibautchauffier/opt/miniconda3/envs/emoji_lora_env/lib/python3.10/site-packages (from diffusers==0.26.0.dev0) (0.4.1)\n",
      "Requirement already satisfied: Pillow in /Users/thibautchauffier/opt/miniconda3/envs/emoji_lora_env/lib/python3.10/site-packages (from diffusers==0.26.0.dev0) (10.2.0)\n",
      "Requirement already satisfied: fsspec>=2023.5.0 in /Users/thibautchauffier/opt/miniconda3/envs/emoji_lora_env/lib/python3.10/site-packages (from huggingface-hub>=0.20.2->diffusers==0.26.0.dev0) (2023.10.0)\n",
      "Requirement already satisfied: tqdm>=4.42.1 in /Users/thibautchauffier/opt/miniconda3/envs/emoji_lora_env/lib/python3.10/site-packages (from huggingface-hub>=0.20.2->diffusers==0.26.0.dev0) (4.66.1)\n",
      "Requirement already satisfied: pyyaml>=5.1 in /Users/thibautchauffier/opt/miniconda3/envs/emoji_lora_env/lib/python3.10/site-packages (from huggingface-hub>=0.20.2->diffusers==0.26.0.dev0) (6.0.1)\n",
      "Requirement already satisfied: typing-extensions>=3.7.4.3 in /Users/thibautchauffier/opt/miniconda3/envs/emoji_lora_env/lib/python3.10/site-packages (from huggingface-hub>=0.20.2->diffusers==0.26.0.dev0) (4.9.0)\n",
      "Requirement already satisfied: packaging>=20.9 in /Users/thibautchauffier/opt/miniconda3/envs/emoji_lora_env/lib/python3.10/site-packages (from huggingface-hub>=0.20.2->diffusers==0.26.0.dev0) (23.2)\n",
      "Requirement already satisfied: zipp>=0.5 in /Users/thibautchauffier/opt/miniconda3/envs/emoji_lora_env/lib/python3.10/site-packages (from importlib-metadata->diffusers==0.26.0.dev0) (3.17.0)\n",
      "Requirement already satisfied: charset-normalizer<4,>=2 in /Users/thibautchauffier/opt/miniconda3/envs/emoji_lora_env/lib/python3.10/site-packages (from requests->diffusers==0.26.0.dev0) (3.3.2)\n",
      "Requirement already satisfied: idna<4,>=2.5 in /Users/thibautchauffier/opt/miniconda3/envs/emoji_lora_env/lib/python3.10/site-packages (from requests->diffusers==0.26.0.dev0) (3.6)\n",
      "Requirement already satisfied: urllib3<3,>=1.21.1 in /Users/thibautchauffier/opt/miniconda3/envs/emoji_lora_env/lib/python3.10/site-packages (from requests->diffusers==0.26.0.dev0) (2.1.0)\n",
      "Requirement already satisfied: certifi>=2017.4.17 in /Users/thibautchauffier/opt/miniconda3/envs/emoji_lora_env/lib/python3.10/site-packages (from requests->diffusers==0.26.0.dev0) (2023.11.17)\n",
      "Building wheels for collected packages: diffusers\n",
      "  Building wheel for diffusers (pyproject.toml) ... \u001b[?25ldone\n",
      "\u001b[?25h  Created wheel for diffusers: filename=diffusers-0.26.0.dev0-py3-none-any.whl size=1837810 sha256=e0439a3887c1dc9143cb7019c591ddd71f606288581af51ed51ce9c5c3e95876\n",
      "  Stored in directory: /private/var/folders/cd/h53dbgmx74sdpfsmyg5qcr8w0000gn/T/pip-ephem-wheel-cache-uwz6in2j/wheels/99/73/49/23084c5d56e697df43555012f91ee2a7a0dd726b919e3f66d6\n",
      "Successfully built diffusers\n",
      "Installing collected packages: diffusers\n",
      "  Attempting uninstall: diffusers\n",
      "    Found existing installation: diffusers 0.26.0.dev0\n",
      "    Uninstalling diffusers-0.26.0.dev0:\n",
      "      Successfully uninstalled diffusers-0.26.0.dev0\n",
      "Successfully installed diffusers-0.26.0.dev0\n",
      "/Users/thibautchauffier/Projets GIT/sdxl_emoji_lora/diffusers/examples/text_to_image\n",
      "Requirement already satisfied: accelerate>=0.22.0 in /Users/thibautchauffier/opt/miniconda3/envs/emoji_lora_env/lib/python3.10/site-packages (from -r requirements_sdxl.txt (line 1)) (0.25.0)\n",
      "Requirement already satisfied: torchvision in /Users/thibautchauffier/opt/miniconda3/envs/emoji_lora_env/lib/python3.10/site-packages (from -r requirements_sdxl.txt (line 2)) (0.16.2)\n",
      "Requirement already satisfied: transformers>=4.25.1 in /Users/thibautchauffier/opt/miniconda3/envs/emoji_lora_env/lib/python3.10/site-packages (from -r requirements_sdxl.txt (line 3)) (4.36.2)\n",
      "Requirement already satisfied: ftfy in /Users/thibautchauffier/opt/miniconda3/envs/emoji_lora_env/lib/python3.10/site-packages (from -r requirements_sdxl.txt (line 4)) (6.1.3)\n",
      "Requirement already satisfied: tensorboard in /Users/thibautchauffier/opt/miniconda3/envs/emoji_lora_env/lib/python3.10/site-packages (from -r requirements_sdxl.txt (line 5)) (2.15.1)\n",
      "Requirement already satisfied: Jinja2 in /Users/thibautchauffier/opt/miniconda3/envs/emoji_lora_env/lib/python3.10/site-packages (from -r requirements_sdxl.txt (line 6)) (3.1.2)\n",
      "Requirement already satisfied: datasets in /Users/thibautchauffier/opt/miniconda3/envs/emoji_lora_env/lib/python3.10/site-packages (from -r requirements_sdxl.txt (line 7)) (2.16.1)\n",
      "Requirement already satisfied: peft==0.7.0 in /Users/thibautchauffier/opt/miniconda3/envs/emoji_lora_env/lib/python3.10/site-packages (from -r requirements_sdxl.txt (line 8)) (0.7.0)\n",
      "Requirement already satisfied: numpy>=1.17 in /Users/thibautchauffier/opt/miniconda3/envs/emoji_lora_env/lib/python3.10/site-packages (from peft==0.7.0->-r requirements_sdxl.txt (line 8)) (1.26.3)\n",
      "Requirement already satisfied: packaging>=20.0 in /Users/thibautchauffier/opt/miniconda3/envs/emoji_lora_env/lib/python3.10/site-packages (from peft==0.7.0->-r requirements_sdxl.txt (line 8)) (23.2)\n",
      "Requirement already satisfied: psutil in /Users/thibautchauffier/opt/miniconda3/envs/emoji_lora_env/lib/python3.10/site-packages (from peft==0.7.0->-r requirements_sdxl.txt (line 8)) (5.9.7)\n",
      "Requirement already satisfied: pyyaml in /Users/thibautchauffier/opt/miniconda3/envs/emoji_lora_env/lib/python3.10/site-packages (from peft==0.7.0->-r requirements_sdxl.txt (line 8)) (6.0.1)\n",
      "Requirement already satisfied: torch>=1.13.0 in /Users/thibautchauffier/opt/miniconda3/envs/emoji_lora_env/lib/python3.10/site-packages (from peft==0.7.0->-r requirements_sdxl.txt (line 8)) (2.1.2)\n",
      "Requirement already satisfied: tqdm in /Users/thibautchauffier/opt/miniconda3/envs/emoji_lora_env/lib/python3.10/site-packages (from peft==0.7.0->-r requirements_sdxl.txt (line 8)) (4.66.1)\n",
      "Requirement already satisfied: safetensors in /Users/thibautchauffier/opt/miniconda3/envs/emoji_lora_env/lib/python3.10/site-packages (from peft==0.7.0->-r requirements_sdxl.txt (line 8)) (0.4.1)\n",
      "Requirement already satisfied: huggingface-hub>=0.17.0 in /Users/thibautchauffier/opt/miniconda3/envs/emoji_lora_env/lib/python3.10/site-packages (from peft==0.7.0->-r requirements_sdxl.txt (line 8)) (0.20.2)\n",
      "Requirement already satisfied: requests in /Users/thibautchauffier/opt/miniconda3/envs/emoji_lora_env/lib/python3.10/site-packages (from torchvision->-r requirements_sdxl.txt (line 2)) (2.31.0)\n",
      "Requirement already satisfied: pillow!=8.3.*,>=5.3.0 in /Users/thibautchauffier/opt/miniconda3/envs/emoji_lora_env/lib/python3.10/site-packages (from torchvision->-r requirements_sdxl.txt (line 2)) (10.2.0)\n",
      "Requirement already satisfied: filelock in /Users/thibautchauffier/opt/miniconda3/envs/emoji_lora_env/lib/python3.10/site-packages (from torch>=1.13.0->peft==0.7.0->-r requirements_sdxl.txt (line 8)) (3.13.1)\n",
      "Requirement already satisfied: typing-extensions in /Users/thibautchauffier/opt/miniconda3/envs/emoji_lora_env/lib/python3.10/site-packages (from torch>=1.13.0->peft==0.7.0->-r requirements_sdxl.txt (line 8)) (4.9.0)\n",
      "Requirement already satisfied: sympy in /Users/thibautchauffier/opt/miniconda3/envs/emoji_lora_env/lib/python3.10/site-packages (from torch>=1.13.0->peft==0.7.0->-r requirements_sdxl.txt (line 8)) (1.12)\n",
      "Requirement already satisfied: networkx in /Users/thibautchauffier/opt/miniconda3/envs/emoji_lora_env/lib/python3.10/site-packages (from torch>=1.13.0->peft==0.7.0->-r requirements_sdxl.txt (line 8)) (3.2.1)\n",
      "Requirement already satisfied: fsspec in /Users/thibautchauffier/opt/miniconda3/envs/emoji_lora_env/lib/python3.10/site-packages (from torch>=1.13.0->peft==0.7.0->-r requirements_sdxl.txt (line 8)) (2023.10.0)\n",
      "Requirement already satisfied: regex!=2019.12.17 in /Users/thibautchauffier/opt/miniconda3/envs/emoji_lora_env/lib/python3.10/site-packages (from transformers>=4.25.1->-r requirements_sdxl.txt (line 3)) (2023.12.25)\n",
      "Requirement already satisfied: tokenizers<0.19,>=0.14 in /Users/thibautchauffier/opt/miniconda3/envs/emoji_lora_env/lib/python3.10/site-packages (from transformers>=4.25.1->-r requirements_sdxl.txt (line 3)) (0.15.0)\n",
      "Requirement already satisfied: wcwidth<0.3.0,>=0.2.12 in /Users/thibautchauffier/opt/miniconda3/envs/emoji_lora_env/lib/python3.10/site-packages (from ftfy->-r requirements_sdxl.txt (line 4)) (0.2.12)\n",
      "Requirement already satisfied: absl-py>=0.4 in /Users/thibautchauffier/opt/miniconda3/envs/emoji_lora_env/lib/python3.10/site-packages (from tensorboard->-r requirements_sdxl.txt (line 5)) (2.0.0)\n",
      "Requirement already satisfied: grpcio>=1.48.2 in /Users/thibautchauffier/opt/miniconda3/envs/emoji_lora_env/lib/python3.10/site-packages (from tensorboard->-r requirements_sdxl.txt (line 5)) (1.60.0)\n",
      "Requirement already satisfied: google-auth<3,>=1.6.3 in /Users/thibautchauffier/opt/miniconda3/envs/emoji_lora_env/lib/python3.10/site-packages (from tensorboard->-r requirements_sdxl.txt (line 5)) (2.26.1)\n",
      "Requirement already satisfied: google-auth-oauthlib<2,>=0.5 in /Users/thibautchauffier/opt/miniconda3/envs/emoji_lora_env/lib/python3.10/site-packages (from tensorboard->-r requirements_sdxl.txt (line 5)) (1.2.0)\n",
      "Requirement already satisfied: markdown>=2.6.8 in /Users/thibautchauffier/opt/miniconda3/envs/emoji_lora_env/lib/python3.10/site-packages (from tensorboard->-r requirements_sdxl.txt (line 5)) (3.5.1)\n",
      "Requirement already satisfied: protobuf<4.24,>=3.19.6 in /Users/thibautchauffier/opt/miniconda3/envs/emoji_lora_env/lib/python3.10/site-packages (from tensorboard->-r requirements_sdxl.txt (line 5)) (4.23.4)\n",
      "Requirement already satisfied: setuptools>=41.0.0 in /Users/thibautchauffier/opt/miniconda3/envs/emoji_lora_env/lib/python3.10/site-packages (from tensorboard->-r requirements_sdxl.txt (line 5)) (69.0.3)\n",
      "Requirement already satisfied: six>1.9 in /Users/thibautchauffier/opt/miniconda3/envs/emoji_lora_env/lib/python3.10/site-packages (from tensorboard->-r requirements_sdxl.txt (line 5)) (1.16.0)\n",
      "Requirement already satisfied: tensorboard-data-server<0.8.0,>=0.7.0 in /Users/thibautchauffier/opt/miniconda3/envs/emoji_lora_env/lib/python3.10/site-packages (from tensorboard->-r requirements_sdxl.txt (line 5)) (0.7.2)\n",
      "Requirement already satisfied: werkzeug>=1.0.1 in /Users/thibautchauffier/opt/miniconda3/envs/emoji_lora_env/lib/python3.10/site-packages (from tensorboard->-r requirements_sdxl.txt (line 5)) (3.0.1)\n",
      "Requirement already satisfied: MarkupSafe>=2.0 in /Users/thibautchauffier/opt/miniconda3/envs/emoji_lora_env/lib/python3.10/site-packages (from Jinja2->-r requirements_sdxl.txt (line 6)) (2.1.3)\n",
      "Requirement already satisfied: pyarrow>=8.0.0 in /Users/thibautchauffier/opt/miniconda3/envs/emoji_lora_env/lib/python3.10/site-packages (from datasets->-r requirements_sdxl.txt (line 7)) (14.0.2)\n",
      "Requirement already satisfied: pyarrow-hotfix in /Users/thibautchauffier/opt/miniconda3/envs/emoji_lora_env/lib/python3.10/site-packages (from datasets->-r requirements_sdxl.txt (line 7)) (0.6)\n",
      "Requirement already satisfied: dill<0.3.8,>=0.3.0 in /Users/thibautchauffier/opt/miniconda3/envs/emoji_lora_env/lib/python3.10/site-packages (from datasets->-r requirements_sdxl.txt (line 7)) (0.3.7)\n",
      "Requirement already satisfied: pandas in /Users/thibautchauffier/opt/miniconda3/envs/emoji_lora_env/lib/python3.10/site-packages (from datasets->-r requirements_sdxl.txt (line 7)) (2.1.4)\n",
      "Requirement already satisfied: xxhash in /Users/thibautchauffier/opt/miniconda3/envs/emoji_lora_env/lib/python3.10/site-packages (from datasets->-r requirements_sdxl.txt (line 7)) (3.4.1)\n",
      "Requirement already satisfied: multiprocess in /Users/thibautchauffier/opt/miniconda3/envs/emoji_lora_env/lib/python3.10/site-packages (from datasets->-r requirements_sdxl.txt (line 7)) (0.70.15)\n",
      "Requirement already satisfied: aiohttp in /Users/thibautchauffier/opt/miniconda3/envs/emoji_lora_env/lib/python3.10/site-packages (from datasets->-r requirements_sdxl.txt (line 7)) (3.9.1)\n",
      "Requirement already satisfied: attrs>=17.3.0 in /Users/thibautchauffier/opt/miniconda3/envs/emoji_lora_env/lib/python3.10/site-packages (from aiohttp->datasets->-r requirements_sdxl.txt (line 7)) (23.2.0)\n",
      "Requirement already satisfied: multidict<7.0,>=4.5 in /Users/thibautchauffier/opt/miniconda3/envs/emoji_lora_env/lib/python3.10/site-packages (from aiohttp->datasets->-r requirements_sdxl.txt (line 7)) (6.0.4)\n",
      "Requirement already satisfied: yarl<2.0,>=1.0 in /Users/thibautchauffier/opt/miniconda3/envs/emoji_lora_env/lib/python3.10/site-packages (from aiohttp->datasets->-r requirements_sdxl.txt (line 7)) (1.9.4)\n",
      "Requirement already satisfied: frozenlist>=1.1.1 in /Users/thibautchauffier/opt/miniconda3/envs/emoji_lora_env/lib/python3.10/site-packages (from aiohttp->datasets->-r requirements_sdxl.txt (line 7)) (1.4.1)\n",
      "Requirement already satisfied: aiosignal>=1.1.2 in /Users/thibautchauffier/opt/miniconda3/envs/emoji_lora_env/lib/python3.10/site-packages (from aiohttp->datasets->-r requirements_sdxl.txt (line 7)) (1.3.1)\n",
      "Requirement already satisfied: async-timeout<5.0,>=4.0 in /Users/thibautchauffier/opt/miniconda3/envs/emoji_lora_env/lib/python3.10/site-packages (from aiohttp->datasets->-r requirements_sdxl.txt (line 7)) (4.0.3)\n",
      "Requirement already satisfied: cachetools<6.0,>=2.0.0 in /Users/thibautchauffier/opt/miniconda3/envs/emoji_lora_env/lib/python3.10/site-packages (from google-auth<3,>=1.6.3->tensorboard->-r requirements_sdxl.txt (line 5)) (5.3.2)\n",
      "Requirement already satisfied: pyasn1-modules>=0.2.1 in /Users/thibautchauffier/opt/miniconda3/envs/emoji_lora_env/lib/python3.10/site-packages (from google-auth<3,>=1.6.3->tensorboard->-r requirements_sdxl.txt (line 5)) (0.3.0)\n",
      "Requirement already satisfied: rsa<5,>=3.1.4 in /Users/thibautchauffier/opt/miniconda3/envs/emoji_lora_env/lib/python3.10/site-packages (from google-auth<3,>=1.6.3->tensorboard->-r requirements_sdxl.txt (line 5)) (4.9)\n",
      "Requirement already satisfied: requests-oauthlib>=0.7.0 in /Users/thibautchauffier/opt/miniconda3/envs/emoji_lora_env/lib/python3.10/site-packages (from google-auth-oauthlib<2,>=0.5->tensorboard->-r requirements_sdxl.txt (line 5)) (1.3.1)\n",
      "Requirement already satisfied: charset-normalizer<4,>=2 in /Users/thibautchauffier/opt/miniconda3/envs/emoji_lora_env/lib/python3.10/site-packages (from requests->torchvision->-r requirements_sdxl.txt (line 2)) (3.3.2)\n",
      "Requirement already satisfied: idna<4,>=2.5 in /Users/thibautchauffier/opt/miniconda3/envs/emoji_lora_env/lib/python3.10/site-packages (from requests->torchvision->-r requirements_sdxl.txt (line 2)) (3.6)\n",
      "Requirement already satisfied: urllib3<3,>=1.21.1 in /Users/thibautchauffier/opt/miniconda3/envs/emoji_lora_env/lib/python3.10/site-packages (from requests->torchvision->-r requirements_sdxl.txt (line 2)) (2.1.0)\n",
      "Requirement already satisfied: certifi>=2017.4.17 in /Users/thibautchauffier/opt/miniconda3/envs/emoji_lora_env/lib/python3.10/site-packages (from requests->torchvision->-r requirements_sdxl.txt (line 2)) (2023.11.17)\n",
      "Requirement already satisfied: python-dateutil>=2.8.2 in /Users/thibautchauffier/opt/miniconda3/envs/emoji_lora_env/lib/python3.10/site-packages (from pandas->datasets->-r requirements_sdxl.txt (line 7)) (2.8.2)\n",
      "Requirement already satisfied: pytz>=2020.1 in /Users/thibautchauffier/opt/miniconda3/envs/emoji_lora_env/lib/python3.10/site-packages (from pandas->datasets->-r requirements_sdxl.txt (line 7)) (2023.3.post1)\n",
      "Requirement already satisfied: tzdata>=2022.1 in /Users/thibautchauffier/opt/miniconda3/envs/emoji_lora_env/lib/python3.10/site-packages (from pandas->datasets->-r requirements_sdxl.txt (line 7)) (2023.4)\n",
      "Requirement already satisfied: pyasn1<0.6.0,>=0.4.6 in /Users/thibautchauffier/opt/miniconda3/envs/emoji_lora_env/lib/python3.10/site-packages (from pyasn1-modules>=0.2.1->google-auth<3,>=1.6.3->tensorboard->-r requirements_sdxl.txt (line 5)) (0.5.1)\n",
      "Requirement already satisfied: oauthlib>=3.0.0 in /Users/thibautchauffier/opt/miniconda3/envs/emoji_lora_env/lib/python3.10/site-packages (from requests-oauthlib>=0.7.0->google-auth-oauthlib<2,>=0.5->tensorboard->-r requirements_sdxl.txt (line 5)) (3.2.2)\n",
      "Requirement already satisfied: mpmath>=0.19 in /Users/thibautchauffier/opt/miniconda3/envs/emoji_lora_env/lib/python3.10/site-packages (from sympy->torch>=1.13.0->peft==0.7.0->-r requirements_sdxl.txt (line 8)) (1.3.0)\n",
      "/Users/thibautchauffier/Projets GIT/sdxl_emoji_lora\n"
     ]
    }
   ],
   "source": [
    "%cd diffusers\n",
    "\n",
    "!pip install .\n",
    "\n",
    "%cd examples/text_to_image\n",
    "\n",
    "!pip install -r requirements_sdxl.txt\n",
    "\n",
    "%cd ../../.."
   ]
  },
  {
   "cell_type": "code",
   "execution_count": null,
   "metadata": {},
   "outputs": [],
   "source": []
  }
 ],
 "metadata": {
  "kernelspec": {
   "display_name": "emoji_lora_env",
   "language": "python",
   "name": "python3"
  },
  "language_info": {
   "codemirror_mode": {
    "name": "ipython",
    "version": 3
   },
   "file_extension": ".py",
   "mimetype": "text/x-python",
   "name": "python",
   "nbconvert_exporter": "python",
   "pygments_lexer": "ipython3",
   "version": "3.10.13"
  }
 },
 "nbformat": 4,
 "nbformat_minor": 2
}
